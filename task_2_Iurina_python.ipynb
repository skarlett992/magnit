{
 "cells": [
  {
   "cell_type": "code",
   "execution_count": 381,
   "metadata": {},
   "outputs": [],
   "source": [
    "%run result_df\n",
    "%run feature_df"
   ]
  },
  {
   "cell_type": "code",
   "execution_count": 383,
   "metadata": {},
   "outputs": [
    {
     "data": {
      "text/html": [
       "<div>\n",
       "<style scoped>\n",
       "    .dataframe tbody tr th:only-of-type {\n",
       "        vertical-align: middle;\n",
       "    }\n",
       "\n",
       "    .dataframe tbody tr th {\n",
       "        vertical-align: top;\n",
       "    }\n",
       "\n",
       "    .dataframe thead th {\n",
       "        text-align: right;\n",
       "    }\n",
       "</style>\n",
       "<table border=\"1\" class=\"dataframe\">\n",
       "  <thead>\n",
       "    <tr style=\"text-align: right;\">\n",
       "      <th></th>\n",
       "      <th>ФИО</th>\n",
       "      <th>Расписание</th>\n",
       "      <th>Дата начала расписания</th>\n",
       "      <th>Дата окончания расписания</th>\n",
       "    </tr>\n",
       "  </thead>\n",
       "  <tbody>\n",
       "    <tr>\n",
       "      <th>0</th>\n",
       "      <td>Поставщик 1</td>\n",
       "      <td>дддвсвнн</td>\n",
       "      <td>01.01.2019 0:00</td>\n",
       "      <td>10.01.2019 0:00</td>\n",
       "    </tr>\n",
       "    <tr>\n",
       "      <th>1</th>\n",
       "      <td>Поставщик 1</td>\n",
       "      <td>ннвннв</td>\n",
       "      <td>11.01.2019 0:00</td>\n",
       "      <td>15.01.2019 0:00</td>\n",
       "    </tr>\n",
       "    <tr>\n",
       "      <th>2</th>\n",
       "      <td>Поставщик 1</td>\n",
       "      <td>св</td>\n",
       "      <td>16.01.2019 0:00</td>\n",
       "      <td>20.01.2019 0:00</td>\n",
       "    </tr>\n",
       "    <tr>\n",
       "      <th>3</th>\n",
       "      <td>Поставщик 2</td>\n",
       "      <td>свсвсв</td>\n",
       "      <td>01.01.2019 0:00</td>\n",
       "      <td>07.01.2019 0:00</td>\n",
       "    </tr>\n",
       "    <tr>\n",
       "      <th>4</th>\n",
       "      <td>Поставщик 2</td>\n",
       "      <td>днвсв</td>\n",
       "      <td>08.01.2019 0:00</td>\n",
       "      <td>14.01.2019 0:00</td>\n",
       "    </tr>\n",
       "    <tr>\n",
       "      <th>5</th>\n",
       "      <td>Поставщик 2</td>\n",
       "      <td>ннддвсв</td>\n",
       "      <td>15.01.2019 0:00</td>\n",
       "      <td>31.12.9999 0:00</td>\n",
       "    </tr>\n",
       "    <tr>\n",
       "      <th>6</th>\n",
       "      <td>Поставщик 3</td>\n",
       "      <td>нвнвнв</td>\n",
       "      <td>01.01.2019 0:00</td>\n",
       "      <td>01.02.2019 0:00</td>\n",
       "    </tr>\n",
       "    <tr>\n",
       "      <th>7</th>\n",
       "      <td>Поставщик 3</td>\n",
       "      <td>двдвдвдв</td>\n",
       "      <td>02.02.2019 0:00</td>\n",
       "      <td>31.12.9999 0:00</td>\n",
       "    </tr>\n",
       "  </tbody>\n",
       "</table>\n",
       "</div>"
      ],
      "text/plain": [
       "           ФИО Расписание Дата начала расписания Дата окончания расписания\n",
       "0  Поставщик 1   дддвсвнн        01.01.2019 0:00           10.01.2019 0:00\n",
       "1  Поставщик 1     ннвннв        11.01.2019 0:00           15.01.2019 0:00\n",
       "2  Поставщик 1         св        16.01.2019 0:00           20.01.2019 0:00\n",
       "3  Поставщик 2     свсвсв        01.01.2019 0:00           07.01.2019 0:00\n",
       "4  Поставщик 2      днвсв        08.01.2019 0:00           14.01.2019 0:00\n",
       "5  Поставщик 2    ннддвсв        15.01.2019 0:00           31.12.9999 0:00\n",
       "6  Поставщик 3     нвнвнв        01.01.2019 0:00           01.02.2019 0:00\n",
       "7  Поставщик 3   двдвдвдв        02.02.2019 0:00           31.12.9999 0:00"
      ]
     },
     "execution_count": 383,
     "metadata": {},
     "output_type": "execute_result"
    }
   ],
   "source": [
    "data = pd.read_csv(r'shedulers.csv', encoding='cp1251', sep=';')\n",
    "data"
   ]
  },
  {
   "cell_type": "markdown",
   "metadata": {},
   "source": [
    "# Задание 3\n",
    "## Создать процедуру расчета рабочих дней."
   ]
  },
  {
   "cell_type": "code",
   "execution_count": 384,
   "metadata": {},
   "outputs": [
    {
     "data": {
      "text/html": [
       "<div>\n",
       "<style scoped>\n",
       "    .dataframe tbody tr th:only-of-type {\n",
       "        vertical-align: middle;\n",
       "    }\n",
       "\n",
       "    .dataframe tbody tr th {\n",
       "        vertical-align: top;\n",
       "    }\n",
       "\n",
       "    .dataframe thead th {\n",
       "        text-align: right;\n",
       "    }\n",
       "</style>\n",
       "<table border=\"1\" class=\"dataframe\">\n",
       "  <thead>\n",
       "    <tr style=\"text-align: right;\">\n",
       "      <th></th>\n",
       "      <th>ID</th>\n",
       "      <th>NAME</th>\n",
       "      <th>DATE_BEGIN</th>\n",
       "      <th>DATE_END</th>\n",
       "    </tr>\n",
       "  </thead>\n",
       "  <tbody>\n",
       "    <tr>\n",
       "      <th>0</th>\n",
       "      <td>1</td>\n",
       "      <td>Поставщик 1</td>\n",
       "      <td>2019-01-01 08:00:00</td>\n",
       "      <td>2019-01-01 20:00:00</td>\n",
       "    </tr>\n",
       "    <tr>\n",
       "      <th>1</th>\n",
       "      <td>2</td>\n",
       "      <td>Поставщик 1</td>\n",
       "      <td>2019-01-02 08:00:00</td>\n",
       "      <td>2019-01-02 20:00:00</td>\n",
       "    </tr>\n",
       "    <tr>\n",
       "      <th>2</th>\n",
       "      <td>3</td>\n",
       "      <td>Поставщик 1</td>\n",
       "      <td>2019-01-03 08:00:00</td>\n",
       "      <td>2019-01-03 20:00:00</td>\n",
       "    </tr>\n",
       "    <tr>\n",
       "      <th>3</th>\n",
       "      <td>4</td>\n",
       "      <td>Поставщик 1</td>\n",
       "      <td>2019-01-05 08:00:00</td>\n",
       "      <td>2019-01-06 08:00:00</td>\n",
       "    </tr>\n",
       "    <tr>\n",
       "      <th>4</th>\n",
       "      <td>5</td>\n",
       "      <td>Поставщик 1</td>\n",
       "      <td>2019-01-08 20:00:00</td>\n",
       "      <td>2019-01-09 08:00:00</td>\n",
       "    </tr>\n",
       "    <tr>\n",
       "      <th>...</th>\n",
       "      <td>...</td>\n",
       "      <td>...</td>\n",
       "      <td>...</td>\n",
       "      <td>...</td>\n",
       "    </tr>\n",
       "    <tr>\n",
       "      <th>961</th>\n",
       "      <td>962</td>\n",
       "      <td>Поставщик 3</td>\n",
       "      <td>2021-08-10 08:00:00</td>\n",
       "      <td>2021-08-10 20:00:00</td>\n",
       "    </tr>\n",
       "    <tr>\n",
       "      <th>962</th>\n",
       "      <td>963</td>\n",
       "      <td>Поставщик 3</td>\n",
       "      <td>2021-08-12 08:00:00</td>\n",
       "      <td>2021-08-12 20:00:00</td>\n",
       "    </tr>\n",
       "    <tr>\n",
       "      <th>963</th>\n",
       "      <td>964</td>\n",
       "      <td>Поставщик 3</td>\n",
       "      <td>2021-08-14 08:00:00</td>\n",
       "      <td>2021-08-14 20:00:00</td>\n",
       "    </tr>\n",
       "    <tr>\n",
       "      <th>964</th>\n",
       "      <td>965</td>\n",
       "      <td>Поставщик 3</td>\n",
       "      <td>2021-08-16 08:00:00</td>\n",
       "      <td>2021-08-16 20:00:00</td>\n",
       "    </tr>\n",
       "    <tr>\n",
       "      <th>965</th>\n",
       "      <td>966</td>\n",
       "      <td>Поставщик 3</td>\n",
       "      <td>2021-08-18 08:00:00</td>\n",
       "      <td>2021-08-18 20:00:00</td>\n",
       "    </tr>\n",
       "  </tbody>\n",
       "</table>\n",
       "<p>966 rows × 4 columns</p>\n",
       "</div>"
      ],
      "text/plain": [
       "      ID         NAME          DATE_BEGIN            DATE_END\n",
       "0      1  Поставщик 1 2019-01-01 08:00:00 2019-01-01 20:00:00\n",
       "1      2  Поставщик 1 2019-01-02 08:00:00 2019-01-02 20:00:00\n",
       "2      3  Поставщик 1 2019-01-03 08:00:00 2019-01-03 20:00:00\n",
       "3      4  Поставщик 1 2019-01-05 08:00:00 2019-01-06 08:00:00\n",
       "4      5  Поставщик 1 2019-01-08 20:00:00 2019-01-09 08:00:00\n",
       "..   ...          ...                 ...                 ...\n",
       "961  962  Поставщик 3 2021-08-10 08:00:00 2021-08-10 20:00:00\n",
       "962  963  Поставщик 3 2021-08-12 08:00:00 2021-08-12 20:00:00\n",
       "963  964  Поставщик 3 2021-08-14 08:00:00 2021-08-14 20:00:00\n",
       "964  965  Поставщик 3 2021-08-16 08:00:00 2021-08-16 20:00:00\n",
       "965  966  Поставщик 3 2021-08-18 08:00:00 2021-08-18 20:00:00\n",
       "\n",
       "[966 rows x 4 columns]"
      ]
     },
     "execution_count": 384,
     "metadata": {},
     "output_type": "execute_result"
    }
   ],
   "source": [
    "# df = pd.read_csv('T_CONTRACTOR_WORK_DAY.csv')\n",
    "add_new_contractor(df)\n",
    "T_CONTRACTOR_WORK_DAY.to_csv('T_CONTRACTOR_WORK_DAY.csv', index=False)\n",
    "T_CONTRACTOR_WORK_DAY"
   ]
  },
  {
   "cell_type": "markdown",
   "metadata": {},
   "source": [
    "# Задание 4\n",
    "## 1) Сделать выборку, содержащую, сколько рабочих дней было у каждого поставщика\n"
   ]
  },
  {
   "cell_type": "code",
   "execution_count": 385,
   "metadata": {},
   "outputs": [
    {
     "data": {
      "text/plain": [
       "NAME\n",
       "Поставщик 2    480\n",
       "Поставщик 3    476\n",
       "Поставщик 1     10\n",
       "Name: DATE_BEGIN, dtype: int64"
      ]
     },
     "execution_count": 385,
     "metadata": {},
     "output_type": "execute_result"
    }
   ],
   "source": [
    "(T_CONTRACTOR_WORK_DAY.groupby('NAME')['DATE_BEGIN'].count()).sort_values(ascending=False)"
   ]
  },
  {
   "cell_type": "markdown",
   "metadata": {},
   "source": [
    "## 2) Сделать выборку поставщиков, у которых было больше 10 рабочих дней за январь 2019 года"
   ]
  },
  {
   "cell_type": "code",
   "execution_count": 386,
   "metadata": {},
   "outputs": [
    {
     "data": {
      "text/plain": [
       "NAME\n",
       "Поставщик 1    10\n",
       "Поставщик 2    46\n",
       "Поставщик 3    41\n",
       "Name: DATE_BEGIN, dtype: int64"
      ]
     },
     "execution_count": 386,
     "metadata": {},
     "output_type": "execute_result"
    }
   ],
   "source": [
    "T_CONTRACTOR_WORK_DAY[T_CONTRACTOR_WORK_DAY.DATE_BEGIN.map(lambda x: x.month)==1].\\\n",
    "groupby('NAME').DATE_BEGIN.count()"
   ]
  },
  {
   "cell_type": "markdown",
   "metadata": {},
   "source": [
    "# а именно:"
   ]
  },
  {
   "cell_type": "code",
   "execution_count": 387,
   "metadata": {},
   "outputs": [
    {
     "data": {
      "text/plain": [
       "['Поставщик 2', 'Поставщик 3']"
      ]
     },
     "execution_count": 387,
     "metadata": {},
     "output_type": "execute_result"
    }
   ],
   "source": [
    "[(T_CONTRACTOR_WORK_DAY[T_CONTRACTOR_WORK_DAY.DATE_BEGIN.map(lambda x: x.month)==1].\\\n",
    "groupby('NAME').DATE_BEGIN.count()>10).index.tolist()[ind] for ind, i \\\n",
    " in enumerate(T_CONTRACTOR_WORK_DAY[T_CONTRACTOR_WORK_DAY.DATE_BEGIN.map(lambda x: x.month)==1].\\\n",
    "groupby('NAME').DATE_BEGIN.count()>10) if i == True]\n"
   ]
  },
  {
   "cell_type": "markdown",
   "metadata": {},
   "source": [
    "## 3) Сделать выборку поставщиков, кто работал 14, 15 и 16 января 2019 года"
   ]
  },
  {
   "cell_type": "code",
   "execution_count": 388,
   "metadata": {},
   "outputs": [
    {
     "data": {
      "text/plain": [
       "[['Поставщик 1', 'начало рабочего дня 2019-01-16 08:00:00'],\n",
       " ['Поставщик 2', 'начало рабочего дня 2019-01-15 20:00:00'],\n",
       " ['Поставщик 2', 'начало рабочего дня 2020-01-14 08:00:00'],\n",
       " ['Поставщик 2', 'начало рабочего дня 2020-01-15 08:00:00'],\n",
       " ['Поставщик 2', 'начало рабочего дня 2021-01-14 20:00:00'],\n",
       " ['Поставщик 2', 'начало рабочего дня 2021-01-16 20:00:00'],\n",
       " ['Поставщик 3', 'начало рабочего дня 2019-01-16 20:00:00'],\n",
       " ['Поставщик 2', 'начало рабочего дня 2020-01-14 08:00:00'],\n",
       " ['Поставщик 3', 'начало рабочего дня 2020-01-16 08:00:00'],\n",
       " ['Поставщик 3', 'начало рабочего дня 2021-01-14 08:00:00'],\n",
       " ['Поставщик 3', 'начало рабочего дня 2021-01-16 08:00:00'],\n",
       " ['Поставщик 1', 'конец рабочего дня 2019-01-14 08:00:00'],\n",
       " ['Поставщик 2', 'конец рабочего дня 2019-01-16 08:00:00'],\n",
       " ['Поставщик 2', 'конец рабочего дня 2020-01-14 20:00:00'],\n",
       " ['Поставщик 2', 'конец рабочего дня 2020-01-15 20:00:00'],\n",
       " ['Поставщик 2', 'конец рабочего дня 2021-01-15 08:00:00'],\n",
       " ['Поставщик 1', 'конец рабочего дня 2019-01-14 08:00:00'],\n",
       " ['Поставщик 2', 'конец рабочего дня 2020-01-14 20:00:00'],\n",
       " ['Поставщик 3', 'конец рабочего дня 2020-01-16 20:00:00'],\n",
       " ['Поставщик 3', 'конец рабочего дня 2021-01-14 20:00:00'],\n",
       " ['Поставщик 3', 'конец рабочего дня 2021-01-16 20:00:00']]"
      ]
     },
     "execution_count": 388,
     "metadata": {},
     "output_type": "execute_result"
    }
   ],
   "source": [
    "[[T_CONTRACTOR_WORK_DAY[T_CONTRACTOR_WORK_DAY.DATE_BEGIN==i].NAME.tolist()[0], f'начало рабочего дня {i}'] for i \\\n",
    " in T_CONTRACTOR_WORK_DAY.DATE_BEGIN if '01-14' in str(i) or '01-15' in str(i) or '01-16' in str(i) ]\\\n",
    "+[[T_CONTRACTOR_WORK_DAY[T_CONTRACTOR_WORK_DAY.DATE_END==i].NAME.tolist()[0], f'конец рабочего дня {i}'] for i in \\\n",
    "T_CONTRACTOR_WORK_DAY.DATE_END if '01-14' in str(i) or '01-15' in str(i) or '01-16' in str(i) ]"
   ]
  },
  {
   "cell_type": "markdown",
   "metadata": {},
   "source": [
    "# а именно:"
   ]
  },
  {
   "cell_type": "code",
   "execution_count": 391,
   "metadata": {},
   "outputs": [
    {
     "data": {
      "text/plain": [
       "{'Поставщик 1', 'Поставщик 2', 'Поставщик 3'}"
      ]
     },
     "execution_count": 391,
     "metadata": {},
     "output_type": "execute_result"
    }
   ],
   "source": [
    "set([T_CONTRACTOR_WORK_DAY[T_CONTRACTOR_WORK_DAY.DATE_BEGIN==i].NAME.tolist()[0] for i \\\n",
    " in T_CONTRACTOR_WORK_DAY.DATE_BEGIN if '01-14' in str(i) or '01-15' in str(i) or '01-16' in str(i) ]\\\n",
    "+[T_CONTRACTOR_WORK_DAY[T_CONTRACTOR_WORK_DAY.DATE_END==i].NAME.tolist()[0] for i in \\\n",
    "T_CONTRACTOR_WORK_DAY.DATE_END if '01-14' in str(i) or '01-15' in str(i) or '01-16' in str(i) ])"
   ]
  },
  {
   "cell_type": "code",
   "execution_count": null,
   "metadata": {},
   "outputs": [],
   "source": []
  },
  {
   "cell_type": "code",
   "execution_count": null,
   "metadata": {},
   "outputs": [],
   "source": []
  }
 ],
 "metadata": {
  "kernelspec": {
   "display_name": "Python 3",
   "language": "python",
   "name": "python3"
  },
  "language_info": {
   "codemirror_mode": {
    "name": "ipython",
    "version": 3
   },
   "file_extension": ".py",
   "mimetype": "text/x-python",
   "name": "python",
   "nbconvert_exporter": "python",
   "pygments_lexer": "ipython3",
   "version": "3.7.8"
  }
 },
 "nbformat": 4,
 "nbformat_minor": 4
}
