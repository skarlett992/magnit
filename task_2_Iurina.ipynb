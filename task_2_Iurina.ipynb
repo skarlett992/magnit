{
 "cells": [
  {
   "cell_type": "markdown",
   "metadata": {},
   "source": [
    "# скрипты к Заданию 2 (SQLServer) "
   ]
  },
  {
   "cell_type": "markdown",
   "metadata": {},
   "source": [
    "Задача 1\n"
   ]
  },
  {
   "cell_type": "code",
   "execution_count": null,
   "metadata": {},
   "outputs": [],
   "source": [
    "drop table if exists SchedulerFromCsv\n",
    "select * into SchedulerFromCsv from (values\n",
    "(N'Поставщик 1',N'дддвсвнн',cast('2019-01-01 00:00:00' as date),cast('2019-01-10 00:00:00' as date)),\n",
    "(N'Поставщик 1',N'ннвннв',cast('2019-01-11 00:00:00' as date),cast('2019-01-15 00:00:00' as date)),\n",
    "(N'Поставщик 1',N'св',cast('2019-01-16 00:00:00' as date),cast('2019-01-20 00:00:00' as date)),\n",
    "(N'Поставщик 2',N'свсвсв',cast('2019-01-01 00:00:00' as date),cast('2019-01-07 00:00:00' as date)),\n",
    "(N'Поставщик 2',N'днвсв',cast('2019-01-08 00:00:00' as date),cast('2019-01-14 00:00:00' as date)),\n",
    "(N'Поставщик 2',N'ннддвсв',cast('2019-01-15 00:00:00' as date),cast('9999-12-31 00:00:00' as date)),\n",
    "(N'Поставщик 3',N'нвнвнв',cast('2019-01-01 00:00:00' as date),cast('2019-02-01 00:00:00' as date)),\n",
    "(N'Поставщик 3',N'двдвдвдв',cast('2019-02-02 00:00:00' as date),cast('9999-12-31 00:00:00' as date))\n",
    "as t([ФИО],[Расписание],[Датаначаларасписания],[Датаокончаниярасписания])\n",
    "\n",
    "\n",
    "CREATE TABLE SUPPLIER(\n",
    "ID INTEGER NOT NULL  PRIMARY  KEY IDENTITY(1,1),\n",
    "Name VARCHAR(100) NOT NULL)\n",
    "\n",
    "\n",
    "INSERT into Supplier(Name) \n",
    "SELECT DISTINCT ФИО FROM SchedulerFromCsv\n",
    "\n",
    "CREATE TABLE T_CONTRACTOR_SHERULER(\n",
    "   ID INTEGER NOT NULL  PRIMARY  KEY IDENTITY(1,1),\n",
    "   ID_NAME INTEGER NOT NULL,\n",
    "   SHEDULE VARCHAR(100)  NOT NULL,\n",
    "   DATE_BEGIN DATE NOT NULL,\n",
    "   DATE_END DATE,\n",
    "   FOREIGN KEY (ID_NAME) REFERENCES Supplier(ID)\n",
    ",\n",
    "   CHECK (DATE_BEGIN <= DATE_END),\n",
    "   UNIQUE (ID_NAME, DATE_BEGIN)\n",
    ");\n",
    "\n",
    "INSERT INTO T_CONTRACTOR_SHERULER(ID_NAME, SHEDULE, DATE_BEGIN, DATE_END)\n",
    "SELECT s.ID, c.Расписание, c.Датаначаларасписания, c.Датаокончаниярасписания\n",
    "FROM SchedulerFromCsv c\n",
    "LEFT JOIN Supplier s on s.Name = c.ФИО\n",
    "\n"
   ]
  },
  {
   "cell_type": "markdown",
   "metadata": {},
   "source": [
    "Задача 2 и 3"
   ]
  },
  {
   "cell_type": "code",
   "execution_count": null,
   "metadata": {},
   "outputs": [],
   "source": [
    "\n",
    "CREATE TABLE WorkingHours(\n",
    "ID INTEGER NOT  NULL PRIMARY KEY IDENTITY(1,1),\n",
    "Symbol CHAR(1) NOT NULL,\n",
    "Start int NOT NULL,\n",
    "Duration int NOT NULL,\n",
    "Check(Duration > 0)\n",
    ");\n",
    "\n",
    "INSERT INTO WorkingHours(Symbol, Start, Duration)\n",
    "VALUES ('с',  8, 24);\n",
    "INSERT INTO WorkingHours(Symbol, Start, Duration)\n",
    "VALUES ('д',  8, 12);\n",
    "INSERT INTO WorkingHours(Symbol, Start, Duration)\n",
    "VALUES ('н',  20, 12)\n",
    "\n",
    "\n",
    "CREATE TABLE T_CONTRACTOR_WORK_DAY(\n",
    "   ID INTEGER NOT NULL  PRIMARY  KEY IDENTITY(1,1),\n",
    "   NAME VARCHAR(100) NOT NULL,\n",
    "   DATE_BEGIN datetime,\n",
    "   DATE_END datetime\n",
    ");\n",
    "\n",
    "GO\n",
    "\n",
    "CREATE procedure [dbo].[CreateSchedule] @StartDate Date, @EndDate Date\n",
    "as\n",
    "\n",
    "truncate table T_CONTRACTOR_WORK_DAY;\n",
    "with calendar as(\n",
    "select @StartDate dt\n",
    "UNION ALL\n",
    "select DATEADD(day, 1, dt) from calendar\n",
    "where dt<@EndDate\n",
    ")\n",
    "insert into T_CONTRACTOR_WORK_DAY(NAME,DATE_BEGIN,DATE_END)\n",
    "select s.Name, DATEADD(HH, w.Start, cast(c.dt as datetime)) DATE_BEGIN, DATEADD(HH, w.Start+w.Duration, cast(c.dt as datetime)) DATE_END from calendar c\n",
    "cross join SUPPLIER s\n",
    "left join [T_CONTRACTOR_SHERULER] sch on sch.ID_NAME=s.ID and c.dt between sch.DATE_BEGIN and sch.DATE_END\n",
    "join WorkingHours w on w.Symbol = SUBSTRING(SHEDULE, (DATEDIFF(day, sch.DATE_BEGIN, c.dt) + LEN(sch.SHEDULE)) % LEN(sch.SHEDULE) + 1 , 1)\n",
    "\n",
    "GO\n",
    "\n"
   ]
  },
  {
   "cell_type": "markdown",
   "metadata": {},
   "source": [
    "Задача 4"
   ]
  },
  {
   "cell_type": "code",
   "execution_count": null,
   "metadata": {},
   "outputs": [],
   "source": [
    "SELECT Name, count(*) as [DayCount] FROM [testdb].[dbo].[T_CONTRACTOR_WORK_DAY]\n",
    "group by Name\n",
    "\n",
    "SELECT Name FROM [testdb].[dbo].[T_CONTRACTOR_WORK_DAY]\n",
    "where FORMAT(DATE_BEGIN, 'yyyy-MM')='2019-01'\n",
    "group by Name\n",
    "having count(*)>10\n",
    "\n",
    "SELECT distinct NAME FROM [testdb].[dbo].[T_CONTRACTOR_WORK_DAY]\n",
    "where FORMAT(DATE_BEGIN, 'yyyy-MM-dd') in ('2019-01-14', '2019-01-15', '2019-01-16')"
   ]
  }
 ],
 "metadata": {
  "kernelspec": {
   "display_name": "Python 3",
   "language": "python",
   "name": "python3"
  },
  "language_info": {
   "codemirror_mode": {
    "name": "ipython",
    "version": 3
   },
   "file_extension": ".py",
   "mimetype": "text/x-python",
   "name": "python",
   "nbconvert_exporter": "python",
   "pygments_lexer": "ipython3",
   "version": "3.7.8"
  }
 },
 "nbformat": 4,
 "nbformat_minor": 4
}
