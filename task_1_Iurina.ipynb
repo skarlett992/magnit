{
 "cells": [
  {
   "cell_type": "markdown",
   "metadata": {},
   "source": [
    "# Импорт библиотек"
   ]
  },
  {
   "cell_type": "code",
   "execution_count": 159,
   "metadata": {},
   "outputs": [],
   "source": [
    "import numpy as np\n",
    "import pandas as pd\n",
    "import matplotlib.pylab as plt\n",
    "from pylab import rcParams\n",
    "from sklearn.preprocessing import LabelEncoder\n",
    "from sklearn.model_selection import train_test_split, KFold\n",
    "from sklearn.ensemble import RandomForestRegressor, RandomForestClassifier\n",
    "from catboost import CatBoostRegressor, CatBoostClassifier\n",
    "from sklearn.metrics import f1_score, r2_score\n"
   ]
  },
  {
   "cell_type": "markdown",
   "metadata": {},
   "source": [
    "# Задача 1:\n",
    "Проведите аналитику полученных данных\n",
    "Подготовьте данные для регрессионной модели\n",
    "Обучите регрессионную модель и осуществите прогноз на последний месяц для поля SALES\n",
    "Оцените качество модели с помощью функции metric"
   ]
  },
  {
   "cell_type": "markdown",
   "metadata": {},
   "source": [
    "# Метрика для оценки Вашей модели\n"
   ]
  },
  {
   "cell_type": "code",
   "execution_count": 160,
   "metadata": {},
   "outputs": [],
   "source": [
    "def metric(y_true, y_pred):\n",
    "    \n",
    "    return np.sum(np.abs(y_true - y_pred)) / np.sum(y_pred) * 100\n"
   ]
  },
  {
   "cell_type": "markdown",
   "metadata": {},
   "source": [
    "# Данные"
   ]
  },
  {
   "cell_type": "code",
   "execution_count": 161,
   "metadata": {},
   "outputs": [],
   "source": [
    "df = pd.read_csv(r'data_regression_for_task.csv')"
   ]
  },
  {
   "cell_type": "code",
   "execution_count": 162,
   "metadata": {},
   "outputs": [
    {
     "data": {
      "text/html": [
       "<div>\n",
       "<style scoped>\n",
       "    .dataframe tbody tr th:only-of-type {\n",
       "        vertical-align: middle;\n",
       "    }\n",
       "\n",
       "    .dataframe tbody tr th {\n",
       "        vertical-align: top;\n",
       "    }\n",
       "\n",
       "    .dataframe thead th {\n",
       "        text-align: right;\n",
       "    }\n",
       "</style>\n",
       "<table border=\"1\" class=\"dataframe\">\n",
       "  <thead>\n",
       "    <tr style=\"text-align: right;\">\n",
       "      <th></th>\n",
       "      <th>YEAR</th>\n",
       "      <th>MONTH</th>\n",
       "      <th>CONTRAGENT</th>\n",
       "      <th>ARTICLE_CODE</th>\n",
       "      <th>ARTICLE_NAME</th>\n",
       "      <th>ARTICLE_GROUP</th>\n",
       "      <th>SALES</th>\n",
       "      <th>STORE_SALES</th>\n",
       "    </tr>\n",
       "  </thead>\n",
       "  <tbody>\n",
       "    <tr>\n",
       "      <th>0</th>\n",
       "      <td>2017</td>\n",
       "      <td>4</td>\n",
       "      <td>ROYAL WINE CORP</td>\n",
       "      <td>100200</td>\n",
       "      <td>GAMLA CAB - 750ML</td>\n",
       "      <td>WINE</td>\n",
       "      <td>0.0</td>\n",
       "      <td>0.0</td>\n",
       "    </tr>\n",
       "    <tr>\n",
       "      <th>1</th>\n",
       "      <td>2017</td>\n",
       "      <td>4</td>\n",
       "      <td>SANTA MARGHERITA USA INC</td>\n",
       "      <td>100749</td>\n",
       "      <td>SANTA MARGHERITA P/GRIG ALTO - 375ML</td>\n",
       "      <td>WINE</td>\n",
       "      <td>0.0</td>\n",
       "      <td>0.0</td>\n",
       "    </tr>\n",
       "    <tr>\n",
       "      <th>2</th>\n",
       "      <td>2017</td>\n",
       "      <td>4</td>\n",
       "      <td>JIM BEAM BRANDS CO</td>\n",
       "      <td>10103</td>\n",
       "      <td>KNOB CREEK BOURBON 9YR - 100P - 375ML</td>\n",
       "      <td>LIQUOR</td>\n",
       "      <td>0.0</td>\n",
       "      <td>0.0</td>\n",
       "    </tr>\n",
       "    <tr>\n",
       "      <th>3</th>\n",
       "      <td>2017</td>\n",
       "      <td>4</td>\n",
       "      <td>HEAVEN HILL DISTILLERIES INC</td>\n",
       "      <td>10120</td>\n",
       "      <td>J W DANT BOURBON 100P - 1.75L</td>\n",
       "      <td>LIQUOR</td>\n",
       "      <td>0.0</td>\n",
       "      <td>0.0</td>\n",
       "    </tr>\n",
       "    <tr>\n",
       "      <th>4</th>\n",
       "      <td>2017</td>\n",
       "      <td>4</td>\n",
       "      <td>ROYAL WINE CORP</td>\n",
       "      <td>101664</td>\n",
       "      <td>RAMON CORDOVA RIOJA - 750ML</td>\n",
       "      <td>WINE</td>\n",
       "      <td>0.0</td>\n",
       "      <td>0.0</td>\n",
       "    </tr>\n",
       "    <tr>\n",
       "      <th>...</th>\n",
       "      <td>...</td>\n",
       "      <td>...</td>\n",
       "      <td>...</td>\n",
       "      <td>...</td>\n",
       "      <td>...</td>\n",
       "      <td>...</td>\n",
       "      <td>...</td>\n",
       "      <td>...</td>\n",
       "    </tr>\n",
       "    <tr>\n",
       "      <th>128350</th>\n",
       "      <td>2018</td>\n",
       "      <td>2</td>\n",
       "      <td>ANHEUSER BUSCH INC</td>\n",
       "      <td>9997</td>\n",
       "      <td>HOEGAARDEN 4/6NR - 12OZ</td>\n",
       "      <td>BEER</td>\n",
       "      <td>66460.0</td>\n",
       "      <td>212.0</td>\n",
       "    </tr>\n",
       "    <tr>\n",
       "      <th>128351</th>\n",
       "      <td>2018</td>\n",
       "      <td>2</td>\n",
       "      <td>COASTAL BREWING COMPANY LLC</td>\n",
       "      <td>99970</td>\n",
       "      <td>DOMINION OAK BARREL STOUT 4/6 NR - 12OZ</td>\n",
       "      <td>BEER</td>\n",
       "      <td>9080.0</td>\n",
       "      <td>35.0</td>\n",
       "    </tr>\n",
       "    <tr>\n",
       "      <th>128352</th>\n",
       "      <td>2018</td>\n",
       "      <td>2</td>\n",
       "      <td>BOSTON BEER CORPORATION</td>\n",
       "      <td>99988</td>\n",
       "      <td>SAM ADAMS COLD SNAP 1/6 KG</td>\n",
       "      <td>KEGS</td>\n",
       "      <td>0.0</td>\n",
       "      <td>32.0</td>\n",
       "    </tr>\n",
       "    <tr>\n",
       "      <th>128353</th>\n",
       "      <td>2018</td>\n",
       "      <td>2</td>\n",
       "      <td>NaN</td>\n",
       "      <td>BC</td>\n",
       "      <td>BEER CREDIT</td>\n",
       "      <td>REF</td>\n",
       "      <td>0.0</td>\n",
       "      <td>-35.0</td>\n",
       "    </tr>\n",
       "    <tr>\n",
       "      <th>128354</th>\n",
       "      <td>2018</td>\n",
       "      <td>2</td>\n",
       "      <td>NaN</td>\n",
       "      <td>WC</td>\n",
       "      <td>WINE CREDIT</td>\n",
       "      <td>REF</td>\n",
       "      <td>0.0</td>\n",
       "      <td>-81.0</td>\n",
       "    </tr>\n",
       "  </tbody>\n",
       "</table>\n",
       "<p>128355 rows × 8 columns</p>\n",
       "</div>"
      ],
      "text/plain": [
       "        YEAR  MONTH                    CONTRAGENT ARTICLE_CODE  \\\n",
       "0       2017      4               ROYAL WINE CORP       100200   \n",
       "1       2017      4      SANTA MARGHERITA USA INC       100749   \n",
       "2       2017      4            JIM BEAM BRANDS CO        10103   \n",
       "3       2017      4  HEAVEN HILL DISTILLERIES INC        10120   \n",
       "4       2017      4               ROYAL WINE CORP       101664   \n",
       "...      ...    ...                           ...          ...   \n",
       "128350  2018      2            ANHEUSER BUSCH INC         9997   \n",
       "128351  2018      2   COASTAL BREWING COMPANY LLC        99970   \n",
       "128352  2018      2       BOSTON BEER CORPORATION        99988   \n",
       "128353  2018      2                           NaN           BC   \n",
       "128354  2018      2                           NaN           WC   \n",
       "\n",
       "                                   ARTICLE_NAME ARTICLE_GROUP    SALES  \\\n",
       "0                             GAMLA CAB - 750ML          WINE      0.0   \n",
       "1          SANTA MARGHERITA P/GRIG ALTO - 375ML          WINE      0.0   \n",
       "2         KNOB CREEK BOURBON 9YR - 100P - 375ML        LIQUOR      0.0   \n",
       "3                 J W DANT BOURBON 100P - 1.75L        LIQUOR      0.0   \n",
       "4                   RAMON CORDOVA RIOJA - 750ML          WINE      0.0   \n",
       "...                                         ...           ...      ...   \n",
       "128350                  HOEGAARDEN 4/6NR - 12OZ          BEER  66460.0   \n",
       "128351  DOMINION OAK BARREL STOUT 4/6 NR - 12OZ          BEER   9080.0   \n",
       "128352               SAM ADAMS COLD SNAP 1/6 KG          KEGS      0.0   \n",
       "128353                              BEER CREDIT           REF      0.0   \n",
       "128354                              WINE CREDIT           REF      0.0   \n",
       "\n",
       "        STORE_SALES  \n",
       "0               0.0  \n",
       "1               0.0  \n",
       "2               0.0  \n",
       "3               0.0  \n",
       "4               0.0  \n",
       "...             ...  \n",
       "128350        212.0  \n",
       "128351         35.0  \n",
       "128352         32.0  \n",
       "128353        -35.0  \n",
       "128354        -81.0  \n",
       "\n",
       "[128355 rows x 8 columns]"
      ]
     },
     "execution_count": 162,
     "metadata": {},
     "output_type": "execute_result"
    }
   ],
   "source": [
    "df"
   ]
  },
  {
   "cell_type": "code",
   "execution_count": 163,
   "metadata": {},
   "outputs": [
    {
     "data": {
      "text/html": [
       "<div>\n",
       "<style scoped>\n",
       "    .dataframe tbody tr th:only-of-type {\n",
       "        vertical-align: middle;\n",
       "    }\n",
       "\n",
       "    .dataframe tbody tr th {\n",
       "        vertical-align: top;\n",
       "    }\n",
       "\n",
       "    .dataframe thead th {\n",
       "        text-align: right;\n",
       "    }\n",
       "</style>\n",
       "<table border=\"1\" class=\"dataframe\">\n",
       "  <thead>\n",
       "    <tr style=\"text-align: right;\">\n",
       "      <th></th>\n",
       "      <th>count</th>\n",
       "      <th>mean</th>\n",
       "      <th>std</th>\n",
       "      <th>min</th>\n",
       "      <th>25%</th>\n",
       "      <th>50%</th>\n",
       "      <th>75%</th>\n",
       "      <th>max</th>\n",
       "    </tr>\n",
       "  </thead>\n",
       "  <tbody>\n",
       "    <tr>\n",
       "      <th>YEAR</th>\n",
       "      <td>128355.0</td>\n",
       "      <td>2017.206030</td>\n",
       "      <td>0.404454</td>\n",
       "      <td>2017.0</td>\n",
       "      <td>2017.0</td>\n",
       "      <td>2017.0</td>\n",
       "      <td>2017.0</td>\n",
       "      <td>2018.00</td>\n",
       "    </tr>\n",
       "    <tr>\n",
       "      <th>MONTH</th>\n",
       "      <td>128355.0</td>\n",
       "      <td>7.079303</td>\n",
       "      <td>3.645826</td>\n",
       "      <td>1.0</td>\n",
       "      <td>5.0</td>\n",
       "      <td>8.0</td>\n",
       "      <td>10.0</td>\n",
       "      <td>12.00</td>\n",
       "    </tr>\n",
       "    <tr>\n",
       "      <th>SALES</th>\n",
       "      <td>128355.0</td>\n",
       "      <td>6563.037435</td>\n",
       "      <td>28924.944352</td>\n",
       "      <td>-6490.0</td>\n",
       "      <td>0.0</td>\n",
       "      <td>330.0</td>\n",
       "      <td>3250.0</td>\n",
       "      <td>1616600.00</td>\n",
       "    </tr>\n",
       "    <tr>\n",
       "      <th>STORE_SALES</th>\n",
       "      <td>128355.0</td>\n",
       "      <td>22.624213</td>\n",
       "      <td>239.693277</td>\n",
       "      <td>-4996.0</td>\n",
       "      <td>0.0</td>\n",
       "      <td>1.0</td>\n",
       "      <td>4.0</td>\n",
       "      <td>16271.75</td>\n",
       "    </tr>\n",
       "  </tbody>\n",
       "</table>\n",
       "</div>"
      ],
      "text/plain": [
       "                count         mean           std     min     25%     50%  \\\n",
       "YEAR         128355.0  2017.206030      0.404454  2017.0  2017.0  2017.0   \n",
       "MONTH        128355.0     7.079303      3.645826     1.0     5.0     8.0   \n",
       "SALES        128355.0  6563.037435  28924.944352 -6490.0     0.0   330.0   \n",
       "STORE_SALES  128355.0    22.624213    239.693277 -4996.0     0.0     1.0   \n",
       "\n",
       "                75%         max  \n",
       "YEAR         2017.0     2018.00  \n",
       "MONTH          10.0       12.00  \n",
       "SALES        3250.0  1616600.00  \n",
       "STORE_SALES     4.0    16271.75  "
      ]
     },
     "execution_count": 163,
     "metadata": {},
     "output_type": "execute_result"
    }
   ],
   "source": [
    "df.describe().T"
   ]
  },
  {
   "cell_type": "markdown",
   "metadata": {},
   "source": [
    "## выявим нулевые значения"
   ]
  },
  {
   "cell_type": "code",
   "execution_count": 164,
   "metadata": {},
   "outputs": [
    {
     "data": {
      "text/plain": [
       "YEAR              0\n",
       "MONTH             0\n",
       "CONTRAGENT       24\n",
       "ARTICLE_CODE      0\n",
       "ARTICLE_NAME      0\n",
       "ARTICLE_GROUP     1\n",
       "SALES             0\n",
       "STORE_SALES       0\n",
       "dtype: int64"
      ]
     },
     "execution_count": 164,
     "metadata": {},
     "output_type": "execute_result"
    }
   ],
   "source": [
    "df.isnull().sum()"
   ]
  },
  {
   "cell_type": "code",
   "execution_count": 165,
   "metadata": {},
   "outputs": [
    {
     "name": "stdout",
     "output_type": "stream",
     "text": [
      "Для контрагентов 24\n",
      "Для группы товаров 1\n",
      "Всего строк в наборе 128355\n"
     ]
    }
   ],
   "source": [
    "print('Для контрагентов ' + str( len( df[ pd.isnull( df['CONTRAGENT'] ) ] ) ))\n",
    "print('Для группы товаров ' + str( len( df[ pd.isnull( df['ARTICLE_GROUP'] ) ] ) ))\n",
    "print('Всего строк в наборе ' + str( len( df ) ))"
   ]
  },
  {
   "cell_type": "markdown",
   "metadata": {},
   "source": [
    "#### итого есть незначительное количество NaN только в контрагентах и всего 1 в группе товаров, \n",
    "#### заполним их неизвестными контрагентами"
   ]
  },
  {
   "cell_type": "code",
   "execution_count": 166,
   "metadata": {},
   "outputs": [],
   "source": [
    "df.CONTRAGENT = df.CONTRAGENT.fillna('Unknown')\n",
    "df.ARTICLE_GROUP = df.ARTICLE_GROUP.fillna('Unknown')"
   ]
  },
  {
   "cell_type": "code",
   "execution_count": 167,
   "metadata": {},
   "outputs": [],
   "source": [
    "df['DATE'] = pd.to_datetime(df[['YEAR', 'MONTH']].assign(DAY=1))"
   ]
  },
  {
   "cell_type": "markdown",
   "metadata": {},
   "source": [
    "### артикулы и наименования товаров закодируем"
   ]
  },
  {
   "cell_type": "code",
   "execution_count": 168,
   "metadata": {},
   "outputs": [],
   "source": [
    "code_columns = ['ARTICLE_CODE', 'ARTICLE_NAME',]\n",
    "for col in code_columns:\n",
    "    df[col] = df[col].astype('category')\n",
    "    df[col] = df[col].cat.codes\n"
   ]
  },
  {
   "cell_type": "code",
   "execution_count": 169,
   "metadata": {},
   "outputs": [
    {
     "data": {
      "text/html": [
       "<div>\n",
       "<style scoped>\n",
       "    .dataframe tbody tr th:only-of-type {\n",
       "        vertical-align: middle;\n",
       "    }\n",
       "\n",
       "    .dataframe tbody tr th {\n",
       "        vertical-align: top;\n",
       "    }\n",
       "\n",
       "    .dataframe thead th {\n",
       "        text-align: right;\n",
       "    }\n",
       "</style>\n",
       "<table border=\"1\" class=\"dataframe\">\n",
       "  <thead>\n",
       "    <tr style=\"text-align: right;\">\n",
       "      <th></th>\n",
       "      <th>YEAR</th>\n",
       "      <th>MONTH</th>\n",
       "      <th>CONTRAGENT</th>\n",
       "      <th>ARTICLE_CODE</th>\n",
       "      <th>ARTICLE_NAME</th>\n",
       "      <th>ARTICLE_GROUP</th>\n",
       "      <th>SALES</th>\n",
       "      <th>STORE_SALES</th>\n",
       "      <th>DATE</th>\n",
       "    </tr>\n",
       "  </thead>\n",
       "  <tbody>\n",
       "    <tr>\n",
       "      <th>0</th>\n",
       "      <td>2017</td>\n",
       "      <td>4</td>\n",
       "      <td>ROYAL WINE CORP</td>\n",
       "      <td>12</td>\n",
       "      <td>9933</td>\n",
       "      <td>WINE</td>\n",
       "      <td>0.0</td>\n",
       "      <td>0.0</td>\n",
       "      <td>2017-04-01</td>\n",
       "    </tr>\n",
       "    <tr>\n",
       "      <th>1</th>\n",
       "      <td>2017</td>\n",
       "      <td>4</td>\n",
       "      <td>SANTA MARGHERITA USA INC</td>\n",
       "      <td>18</td>\n",
       "      <td>18930</td>\n",
       "      <td>WINE</td>\n",
       "      <td>0.0</td>\n",
       "      <td>0.0</td>\n",
       "      <td>2017-04-01</td>\n",
       "    </tr>\n",
       "    <tr>\n",
       "      <th>2</th>\n",
       "      <td>2017</td>\n",
       "      <td>4</td>\n",
       "      <td>JIM BEAM BRANDS CO</td>\n",
       "      <td>26</td>\n",
       "      <td>12631</td>\n",
       "      <td>LIQUOR</td>\n",
       "      <td>0.0</td>\n",
       "      <td>0.0</td>\n",
       "      <td>2017-04-01</td>\n",
       "    </tr>\n",
       "    <tr>\n",
       "      <th>3</th>\n",
       "      <td>2017</td>\n",
       "      <td>4</td>\n",
       "      <td>HEAVEN HILL DISTILLERIES INC</td>\n",
       "      <td>29</td>\n",
       "      <td>11751</td>\n",
       "      <td>LIQUOR</td>\n",
       "      <td>0.0</td>\n",
       "      <td>0.0</td>\n",
       "      <td>2017-04-01</td>\n",
       "    </tr>\n",
       "    <tr>\n",
       "      <th>4</th>\n",
       "      <td>2017</td>\n",
       "      <td>4</td>\n",
       "      <td>ROYAL WINE CORP</td>\n",
       "      <td>43</td>\n",
       "      <td>17740</td>\n",
       "      <td>WINE</td>\n",
       "      <td>0.0</td>\n",
       "      <td>0.0</td>\n",
       "      <td>2017-04-01</td>\n",
       "    </tr>\n",
       "    <tr>\n",
       "      <th>...</th>\n",
       "      <td>...</td>\n",
       "      <td>...</td>\n",
       "      <td>...</td>\n",
       "      <td>...</td>\n",
       "      <td>...</td>\n",
       "      <td>...</td>\n",
       "      <td>...</td>\n",
       "      <td>...</td>\n",
       "      <td>...</td>\n",
       "    </tr>\n",
       "    <tr>\n",
       "      <th>128350</th>\n",
       "      <td>2018</td>\n",
       "      <td>2</td>\n",
       "      <td>ANHEUSER BUSCH INC</td>\n",
       "      <td>23550</td>\n",
       "      <td>11332</td>\n",
       "      <td>BEER</td>\n",
       "      <td>66460.0</td>\n",
       "      <td>212.0</td>\n",
       "      <td>2018-02-01</td>\n",
       "    </tr>\n",
       "    <tr>\n",
       "      <th>128351</th>\n",
       "      <td>2018</td>\n",
       "      <td>2</td>\n",
       "      <td>COASTAL BREWING COMPANY LLC</td>\n",
       "      <td>23551</td>\n",
       "      <td>7729</td>\n",
       "      <td>BEER</td>\n",
       "      <td>9080.0</td>\n",
       "      <td>35.0</td>\n",
       "      <td>2018-02-01</td>\n",
       "    </tr>\n",
       "    <tr>\n",
       "      <th>128352</th>\n",
       "      <td>2018</td>\n",
       "      <td>2</td>\n",
       "      <td>BOSTON BEER CORPORATION</td>\n",
       "      <td>23552</td>\n",
       "      <td>18716</td>\n",
       "      <td>KEGS</td>\n",
       "      <td>0.0</td>\n",
       "      <td>32.0</td>\n",
       "      <td>2018-02-01</td>\n",
       "    </tr>\n",
       "    <tr>\n",
       "      <th>128353</th>\n",
       "      <td>2018</td>\n",
       "      <td>2</td>\n",
       "      <td>Unknown</td>\n",
       "      <td>23554</td>\n",
       "      <td>2283</td>\n",
       "      <td>REF</td>\n",
       "      <td>0.0</td>\n",
       "      <td>-35.0</td>\n",
       "      <td>2018-02-01</td>\n",
       "    </tr>\n",
       "    <tr>\n",
       "      <th>128354</th>\n",
       "      <td>2018</td>\n",
       "      <td>2</td>\n",
       "      <td>Unknown</td>\n",
       "      <td>23555</td>\n",
       "      <td>23193</td>\n",
       "      <td>REF</td>\n",
       "      <td>0.0</td>\n",
       "      <td>-81.0</td>\n",
       "      <td>2018-02-01</td>\n",
       "    </tr>\n",
       "  </tbody>\n",
       "</table>\n",
       "<p>128355 rows × 9 columns</p>\n",
       "</div>"
      ],
      "text/plain": [
       "        YEAR  MONTH                    CONTRAGENT  ARTICLE_CODE  ARTICLE_NAME  \\\n",
       "0       2017      4               ROYAL WINE CORP            12          9933   \n",
       "1       2017      4      SANTA MARGHERITA USA INC            18         18930   \n",
       "2       2017      4            JIM BEAM BRANDS CO            26         12631   \n",
       "3       2017      4  HEAVEN HILL DISTILLERIES INC            29         11751   \n",
       "4       2017      4               ROYAL WINE CORP            43         17740   \n",
       "...      ...    ...                           ...           ...           ...   \n",
       "128350  2018      2            ANHEUSER BUSCH INC         23550         11332   \n",
       "128351  2018      2   COASTAL BREWING COMPANY LLC         23551          7729   \n",
       "128352  2018      2       BOSTON BEER CORPORATION         23552         18716   \n",
       "128353  2018      2                       Unknown         23554          2283   \n",
       "128354  2018      2                       Unknown         23555         23193   \n",
       "\n",
       "       ARTICLE_GROUP    SALES  STORE_SALES       DATE  \n",
       "0               WINE      0.0          0.0 2017-04-01  \n",
       "1               WINE      0.0          0.0 2017-04-01  \n",
       "2             LIQUOR      0.0          0.0 2017-04-01  \n",
       "3             LIQUOR      0.0          0.0 2017-04-01  \n",
       "4               WINE      0.0          0.0 2017-04-01  \n",
       "...              ...      ...          ...        ...  \n",
       "128350          BEER  66460.0        212.0 2018-02-01  \n",
       "128351          BEER   9080.0         35.0 2018-02-01  \n",
       "128352          KEGS      0.0         32.0 2018-02-01  \n",
       "128353           REF      0.0        -35.0 2018-02-01  \n",
       "128354           REF      0.0        -81.0 2018-02-01  \n",
       "\n",
       "[128355 rows x 9 columns]"
      ]
     },
     "execution_count": 169,
     "metadata": {},
     "output_type": "execute_result"
    }
   ],
   "source": [
    "df"
   ]
  },
  {
   "cell_type": "code",
   "execution_count": 170,
   "metadata": {},
   "outputs": [],
   "source": [
    "y = df['SALES']\n",
    "cat_feat = df[['CONTRAGENT', 'ARTICLE_GROUP', 'DATE']].apply(LabelEncoder().fit_transform)\n",
    "X = pd.get_dummies(df.drop(['SALES'], axis=1),\n",
    "                   columns=cat_feat.columns)"
   ]
  },
  {
   "cell_type": "code",
   "execution_count": 171,
   "metadata": {},
   "outputs": [
    {
     "name": "stderr",
     "output_type": "stream",
     "text": [
      "/Users/natalaurina/.pyenv/versions/3.7.8/envs/jupyter_notebook/lib/python3.7/site-packages/sklearn/ensemble/forest.py:246: FutureWarning: The default value of n_estimators will change from 10 in version 0.20 to 100 in 0.22.\n",
      "  \"10 in version 0.20 to 100 in 0.22.\", FutureWarning)\n"
     ]
    },
    {
     "name": "stdout",
     "output_type": "stream",
     "text": [
      "17.762507534906742 45.08156930962925\n"
     ]
    }
   ],
   "source": [
    "#Лес или бустинг (стандарт)\n",
    "model_cat = RandomForestRegressor(\n",
    "#     n_estimators=100, learning_rate=0.2, max_depth=4, \n",
    "#                                   silent=True\n",
    ")\n",
    "model_cat.fit(X_train, y_train)\n",
    "y_pred_test = model_cat.predict(X_test)\n",
    "y_pred_train = model_cat.predict(X_train)\n",
    "print(metric(y_train, y_pred_train), metric(y_test, y_pred_test)  )"
   ]
  },
  {
   "cell_type": "markdown",
   "metadata": {},
   "source": [
    "### с использованием перекрестной проверки результат заметно выше:"
   ]
  },
  {
   "cell_type": "code",
   "execution_count": 158,
   "metadata": {},
   "outputs": [
    {
     "name": "stdout",
     "output_type": "stream",
     "text": [
      "69.90521734141726 74.33381986945055\n",
      "69.9148978605232 72.63389325061807\n",
      "69.39436874010616 73.91795353248293\n",
      "69.1681279538116 75.9063198934958\n",
      "69.4506358629156 74.77434072428252\n",
      "69.42632299283001 72.69555773252011\n",
      "69.33303386302579 74.50336343007852\n",
      "69.68970700878087 75.47712273897672\n",
      "70.04091351130421 74.51079182336423\n",
      "68.93529877768853 75.91183417780168\n",
      "69.52585239124032\n",
      "74.46649971730712\n"
     ]
    }
   ],
   "source": [
    "skf = KFold(n_splits=10, random_state=None, shuffle=True)\n",
    "train_metric, test_metric = [], []\n",
    "for train_index, test_index in skf.split(X, y):\n",
    "    X_train, X_test = X.loc[train_index], X.loc[test_index]\n",
    "    y_train, y_test = y.loc[train_index], y.loc[test_index]\n",
    "    \n",
    "    cat_model = CatBoostRegressor(n_estimators=500, learning_rate=0.3, max_depth=4,silent=True)#n_estimators=1000, learning_rate=0.2, max_depth=4, silent=True)\n",
    "    cat_model.fit(X_train, y_train)\n",
    "    \n",
    "    y_pred_train, y_pred_test = cat_model.predict(X_train), cat_model.predict(X_test)\n",
    "    metric(y_train, y_pred_train), metric(y_test, y_pred_test)\n",
    "    train_metric.append(metric(y_train, y_pred_train))\n",
    "    test_metric.append(metric(y_test, y_pred_test))\n",
    "    print(metric(y_train, y_pred_train), metric(y_test, y_pred_test))\n",
    "print(sum(train_metric)/len(train_metric))\n",
    "print(sum(test_metric)/len(test_metric))"
   ]
  },
  {
   "cell_type": "markdown",
   "metadata": {},
   "source": [
    "# Задача 2:\n",
    "Проведите аналитику полученных данных\n",
    "Подготовьте данные для модели классификации\n",
    "Обучите модель классификации и осуществите прогноз для отложенной выборки с учетомо перекоса в данных TARGET\n",
    "Оцените качество модели с помощью функции f1_score"
   ]
  },
  {
   "cell_type": "markdown",
   "metadata": {},
   "source": [
    "# Данные"
   ]
  },
  {
   "cell_type": "code",
   "execution_count": 172,
   "metadata": {},
   "outputs": [],
   "source": [
    "df = pd.read_csv(r'data_classification_for_task.csv')"
   ]
  },
  {
   "cell_type": "code",
   "execution_count": 173,
   "metadata": {},
   "outputs": [
    {
     "data": {
      "text/html": [
       "<div>\n",
       "<style scoped>\n",
       "    .dataframe tbody tr th:only-of-type {\n",
       "        vertical-align: middle;\n",
       "    }\n",
       "\n",
       "    .dataframe tbody tr th {\n",
       "        vertical-align: top;\n",
       "    }\n",
       "\n",
       "    .dataframe thead th {\n",
       "        text-align: right;\n",
       "    }\n",
       "</style>\n",
       "<table border=\"1\" class=\"dataframe\">\n",
       "  <thead>\n",
       "    <tr style=\"text-align: right;\">\n",
       "      <th></th>\n",
       "      <th>AGE</th>\n",
       "      <th>GENDER</th>\n",
       "      <th>FEATURE_1</th>\n",
       "      <th>FEATURE_2</th>\n",
       "      <th>FEATURE_3</th>\n",
       "      <th>FEATURE_4</th>\n",
       "      <th>FEATURE_5</th>\n",
       "      <th>FEATURE_6</th>\n",
       "      <th>FEATURE_7</th>\n",
       "      <th>FEATURE_8</th>\n",
       "      <th>FEATURE_9</th>\n",
       "      <th>FEATURE_10</th>\n",
       "      <th>FEATURE_11</th>\n",
       "      <th>TARGET</th>\n",
       "    </tr>\n",
       "  </thead>\n",
       "  <tbody>\n",
       "    <tr>\n",
       "      <th>0</th>\n",
       "      <td>63</td>\n",
       "      <td>1</td>\n",
       "      <td>3</td>\n",
       "      <td>145</td>\n",
       "      <td>233</td>\n",
       "      <td>1</td>\n",
       "      <td>0</td>\n",
       "      <td>150</td>\n",
       "      <td>0</td>\n",
       "      <td>2.3</td>\n",
       "      <td>0</td>\n",
       "      <td>0</td>\n",
       "      <td>1</td>\n",
       "      <td>1</td>\n",
       "    </tr>\n",
       "    <tr>\n",
       "      <th>1</th>\n",
       "      <td>37</td>\n",
       "      <td>1</td>\n",
       "      <td>2</td>\n",
       "      <td>130</td>\n",
       "      <td>250</td>\n",
       "      <td>0</td>\n",
       "      <td>1</td>\n",
       "      <td>187</td>\n",
       "      <td>0</td>\n",
       "      <td>3.5</td>\n",
       "      <td>0</td>\n",
       "      <td>0</td>\n",
       "      <td>2</td>\n",
       "      <td>1</td>\n",
       "    </tr>\n",
       "    <tr>\n",
       "      <th>2</th>\n",
       "      <td>41</td>\n",
       "      <td>0</td>\n",
       "      <td>1</td>\n",
       "      <td>130</td>\n",
       "      <td>204</td>\n",
       "      <td>0</td>\n",
       "      <td>0</td>\n",
       "      <td>172</td>\n",
       "      <td>0</td>\n",
       "      <td>1.4</td>\n",
       "      <td>2</td>\n",
       "      <td>0</td>\n",
       "      <td>2</td>\n",
       "      <td>1</td>\n",
       "    </tr>\n",
       "    <tr>\n",
       "      <th>3</th>\n",
       "      <td>56</td>\n",
       "      <td>1</td>\n",
       "      <td>1</td>\n",
       "      <td>120</td>\n",
       "      <td>236</td>\n",
       "      <td>0</td>\n",
       "      <td>1</td>\n",
       "      <td>178</td>\n",
       "      <td>0</td>\n",
       "      <td>0.8</td>\n",
       "      <td>2</td>\n",
       "      <td>0</td>\n",
       "      <td>2</td>\n",
       "      <td>1</td>\n",
       "    </tr>\n",
       "    <tr>\n",
       "      <th>4</th>\n",
       "      <td>57</td>\n",
       "      <td>0</td>\n",
       "      <td>0</td>\n",
       "      <td>120</td>\n",
       "      <td>354</td>\n",
       "      <td>0</td>\n",
       "      <td>1</td>\n",
       "      <td>163</td>\n",
       "      <td>1</td>\n",
       "      <td>0.6</td>\n",
       "      <td>2</td>\n",
       "      <td>0</td>\n",
       "      <td>2</td>\n",
       "      <td>1</td>\n",
       "    </tr>\n",
       "  </tbody>\n",
       "</table>\n",
       "</div>"
      ],
      "text/plain": [
       "   AGE  GENDER  FEATURE_1  FEATURE_2  FEATURE_3  FEATURE_4  FEATURE_5  \\\n",
       "0   63       1          3        145        233          1          0   \n",
       "1   37       1          2        130        250          0          1   \n",
       "2   41       0          1        130        204          0          0   \n",
       "3   56       1          1        120        236          0          1   \n",
       "4   57       0          0        120        354          0          1   \n",
       "\n",
       "   FEATURE_6  FEATURE_7  FEATURE_8  FEATURE_9  FEATURE_10  FEATURE_11  TARGET  \n",
       "0        150          0        2.3          0           0           1       1  \n",
       "1        187          0        3.5          0           0           2       1  \n",
       "2        172          0        1.4          2           0           2       1  \n",
       "3        178          0        0.8          2           0           2       1  \n",
       "4        163          1        0.6          2           0           2       1  "
      ]
     },
     "execution_count": 173,
     "metadata": {},
     "output_type": "execute_result"
    }
   ],
   "source": [
    "df.head()"
   ]
  },
  {
   "cell_type": "code",
   "execution_count": 174,
   "metadata": {},
   "outputs": [
    {
     "data": {
      "text/plain": [
       "array([1, 0])"
      ]
     },
     "execution_count": 174,
     "metadata": {},
     "output_type": "execute_result"
    }
   ],
   "source": [
    "df.TARGET.unique()"
   ]
  },
  {
   "cell_type": "code",
   "execution_count": 175,
   "metadata": {},
   "outputs": [
    {
     "name": "stdout",
     "output_type": "stream",
     "text": [
      "<class 'pandas.core.frame.DataFrame'>\n",
      "RangeIndex: 303 entries, 0 to 302\n",
      "Data columns (total 14 columns):\n",
      " #   Column      Non-Null Count  Dtype  \n",
      "---  ------      --------------  -----  \n",
      " 0   AGE         303 non-null    int64  \n",
      " 1   GENDER      303 non-null    int64  \n",
      " 2   FEATURE_1   303 non-null    int64  \n",
      " 3   FEATURE_2   303 non-null    int64  \n",
      " 4   FEATURE_3   303 non-null    int64  \n",
      " 5   FEATURE_4   303 non-null    int64  \n",
      " 6   FEATURE_5   303 non-null    int64  \n",
      " 7   FEATURE_6   303 non-null    int64  \n",
      " 8   FEATURE_7   303 non-null    int64  \n",
      " 9   FEATURE_8   303 non-null    float64\n",
      " 10  FEATURE_9   303 non-null    int64  \n",
      " 11  FEATURE_10  303 non-null    int64  \n",
      " 12  FEATURE_11  303 non-null    int64  \n",
      " 13  TARGET      303 non-null    int64  \n",
      "dtypes: float64(1), int64(13)\n",
      "memory usage: 33.3 KB\n"
     ]
    }
   ],
   "source": [
    "df.info()"
   ]
  },
  {
   "cell_type": "code",
   "execution_count": 176,
   "metadata": {},
   "outputs": [
    {
     "data": {
      "text/plain": [
       "AGE           0\n",
       "GENDER        0\n",
       "FEATURE_1     0\n",
       "FEATURE_2     0\n",
       "FEATURE_3     0\n",
       "FEATURE_4     0\n",
       "FEATURE_5     0\n",
       "FEATURE_6     0\n",
       "FEATURE_7     0\n",
       "FEATURE_8     0\n",
       "FEATURE_9     0\n",
       "FEATURE_10    0\n",
       "FEATURE_11    0\n",
       "TARGET        0\n",
       "dtype: int64"
      ]
     },
     "execution_count": 176,
     "metadata": {},
     "output_type": "execute_result"
    }
   ],
   "source": [
    "df.isnull().sum()"
   ]
  },
  {
   "cell_type": "code",
   "execution_count": 177,
   "metadata": {},
   "outputs": [],
   "source": [
    "y = df['TARGET']\n",
    "X = df.drop(['TARGET'], axis=1)"
   ]
  },
  {
   "cell_type": "code",
   "execution_count": 181,
   "metadata": {},
   "outputs": [
    {
     "name": "stdout",
     "output_type": "stream",
     "text": [
      "1.0 0.847457627118644\n",
      "1.0 0.8181818181818181\n",
      "1.0 0.8521739130434782\n",
      "1.0\n",
      "0.8392711194479802\n"
     ]
    }
   ],
   "source": [
    "skf = KFold(n_splits=3, random_state=None, shuffle=True)\n",
    "train_metric, test_metric = [], []\n",
    "for train_index, test_index in skf.split(X, y):\n",
    "    X_train, X_test = X.loc[train_index], X.loc[test_index]\n",
    "    y_train, y_test = y.loc[train_index], y.loc[test_index]\n",
    "    \n",
    "    cat_model = CatBoostClassifier(n_estimators=500, learning_rate=0.3, max_depth=4, silent=True)\n",
    "    cat_model.fit(X_train, y_train)\n",
    "    \n",
    "    y_pred_train, y_pred_test = cat_model.predict(X_train), cat_model.predict(X_test)\n",
    "    f1_score(y_train, y_pred_train), f1_score(y_test, y_pred_test)\n",
    "    train_metric.append(f1_score(y_train, y_pred_train))\n",
    "    test_metric.append(f1_score(y_test, y_pred_test))\n",
    "    print(f1_score(y_train, y_pred_train), f1_score(y_test, y_pred_test))\n",
    "print(sum(train_metric)/len(train_metric))\n",
    "print(sum(test_metric)/len(test_metric))"
   ]
  },
  {
   "cell_type": "code",
   "execution_count": null,
   "metadata": {},
   "outputs": [],
   "source": []
  },
  {
   "cell_type": "code",
   "execution_count": null,
   "metadata": {},
   "outputs": [],
   "source": []
  }
 ],
 "metadata": {
  "kernelspec": {
   "display_name": "Python 3",
   "language": "python",
   "name": "python3"
  }
 },
 "nbformat": 4,
 "nbformat_minor": 4
}
